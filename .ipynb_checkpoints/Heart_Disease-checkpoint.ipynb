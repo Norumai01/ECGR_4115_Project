{
 "cells": [
  {
   "cell_type": "code",
   "execution_count": 32,
   "id": "60a157f8",
   "metadata": {},
   "outputs": [],
   "source": [
    "import numpy as np\n",
    "import matplotlib.pyplot as plt\n",
    "import pandas as pd\n",
    "from sklearn import datasets\n",
    "import seaborn as sns\n",
    "from sklearn import metrics\n",
    "from sklearn.model_selection import train_test_split\n",
    "from sklearn.metrics import confusion_matrix, classification_report\n",
    "from sklearn.svm import SVC\n",
    "from sklearn.preprocessing import StandardScaler\n",
    "from ucimlrepo import fetch_ucirepo \n",
    "import warnings"
   ]
  },
  {
   "cell_type": "code",
   "execution_count": 33,
   "id": "dcfbeee0",
   "metadata": {},
   "outputs": [],
   "source": [
    "# fetch dataset \n",
    "heart_disease = fetch_ucirepo(id=45) \n",
    "  \n",
    "# data (as pandas dataframes) \n",
    "X = heart_disease.data.features \n",
    "Y = heart_disease.data.targets \n",
    "  \n",
    "# variable information \n",
    "#print(heart_disease.variables)\n",
    "\n",
    "# Fill in any NaN values in the data to 0. \n",
    "X = X.fillna(0)"
   ]
  },
  {
   "cell_type": "code",
   "execution_count": 34,
   "id": "518cd26c",
   "metadata": {},
   "outputs": [
    {
     "name": "stdout",
     "output_type": "stream",
     "text": [
      "(303, 13) (303, 1)\n"
     ]
    },
    {
     "data": {
      "text/html": [
       "<div>\n",
       "<style scoped>\n",
       "    .dataframe tbody tr th:only-of-type {\n",
       "        vertical-align: middle;\n",
       "    }\n",
       "\n",
       "    .dataframe tbody tr th {\n",
       "        vertical-align: top;\n",
       "    }\n",
       "\n",
       "    .dataframe thead th {\n",
       "        text-align: right;\n",
       "    }\n",
       "</style>\n",
       "<table border=\"1\" class=\"dataframe\">\n",
       "  <thead>\n",
       "    <tr style=\"text-align: right;\">\n",
       "      <th></th>\n",
       "      <th>num</th>\n",
       "    </tr>\n",
       "  </thead>\n",
       "  <tbody>\n",
       "    <tr>\n",
       "      <th>0</th>\n",
       "      <td>0</td>\n",
       "    </tr>\n",
       "    <tr>\n",
       "      <th>1</th>\n",
       "      <td>2</td>\n",
       "    </tr>\n",
       "    <tr>\n",
       "      <th>2</th>\n",
       "      <td>1</td>\n",
       "    </tr>\n",
       "    <tr>\n",
       "      <th>3</th>\n",
       "      <td>0</td>\n",
       "    </tr>\n",
       "    <tr>\n",
       "      <th>4</th>\n",
       "      <td>0</td>\n",
       "    </tr>\n",
       "  </tbody>\n",
       "</table>\n",
       "</div>"
      ],
      "text/plain": [
       "   num\n",
       "0    0\n",
       "1    2\n",
       "2    1\n",
       "3    0\n",
       "4    0"
      ]
     },
     "execution_count": 34,
     "metadata": {},
     "output_type": "execute_result"
    }
   ],
   "source": [
    "# Place into a DataFrame Table for processing data.\n",
    "df_X = pd.DataFrame(X)\n",
    "df_Y = pd.DataFrame(Y)\n",
    "\n",
    "print(X.shape, Y.shape)\n",
    "df_Y.head()"
   ]
  },
  {
   "cell_type": "code",
   "execution_count": 35,
   "id": "b3bf8bde",
   "metadata": {},
   "outputs": [
    {
     "data": {
      "text/html": [
       "<div>\n",
       "<style scoped>\n",
       "    .dataframe tbody tr th:only-of-type {\n",
       "        vertical-align: middle;\n",
       "    }\n",
       "\n",
       "    .dataframe tbody tr th {\n",
       "        vertical-align: top;\n",
       "    }\n",
       "\n",
       "    .dataframe thead th {\n",
       "        text-align: right;\n",
       "    }\n",
       "</style>\n",
       "<table border=\"1\" class=\"dataframe\">\n",
       "  <thead>\n",
       "    <tr style=\"text-align: right;\">\n",
       "      <th></th>\n",
       "      <th>age</th>\n",
       "      <th>sex</th>\n",
       "      <th>cp</th>\n",
       "      <th>trestbps</th>\n",
       "      <th>chol</th>\n",
       "      <th>fbs</th>\n",
       "      <th>restecg</th>\n",
       "      <th>thalach</th>\n",
       "      <th>exang</th>\n",
       "      <th>oldpeak</th>\n",
       "      <th>slope</th>\n",
       "      <th>ca</th>\n",
       "      <th>thal</th>\n",
       "      <th>num</th>\n",
       "    </tr>\n",
       "  </thead>\n",
       "  <tbody>\n",
       "    <tr>\n",
       "      <th>0</th>\n",
       "      <td>63</td>\n",
       "      <td>1</td>\n",
       "      <td>1</td>\n",
       "      <td>145</td>\n",
       "      <td>233</td>\n",
       "      <td>1</td>\n",
       "      <td>2</td>\n",
       "      <td>150</td>\n",
       "      <td>0</td>\n",
       "      <td>2.3</td>\n",
       "      <td>3</td>\n",
       "      <td>0.0</td>\n",
       "      <td>6.0</td>\n",
       "      <td>0</td>\n",
       "    </tr>\n",
       "    <tr>\n",
       "      <th>1</th>\n",
       "      <td>67</td>\n",
       "      <td>1</td>\n",
       "      <td>4</td>\n",
       "      <td>160</td>\n",
       "      <td>286</td>\n",
       "      <td>0</td>\n",
       "      <td>2</td>\n",
       "      <td>108</td>\n",
       "      <td>1</td>\n",
       "      <td>1.5</td>\n",
       "      <td>2</td>\n",
       "      <td>3.0</td>\n",
       "      <td>3.0</td>\n",
       "      <td>2</td>\n",
       "    </tr>\n",
       "    <tr>\n",
       "      <th>2</th>\n",
       "      <td>67</td>\n",
       "      <td>1</td>\n",
       "      <td>4</td>\n",
       "      <td>120</td>\n",
       "      <td>229</td>\n",
       "      <td>0</td>\n",
       "      <td>2</td>\n",
       "      <td>129</td>\n",
       "      <td>1</td>\n",
       "      <td>2.6</td>\n",
       "      <td>2</td>\n",
       "      <td>2.0</td>\n",
       "      <td>7.0</td>\n",
       "      <td>1</td>\n",
       "    </tr>\n",
       "    <tr>\n",
       "      <th>3</th>\n",
       "      <td>37</td>\n",
       "      <td>1</td>\n",
       "      <td>3</td>\n",
       "      <td>130</td>\n",
       "      <td>250</td>\n",
       "      <td>0</td>\n",
       "      <td>0</td>\n",
       "      <td>187</td>\n",
       "      <td>0</td>\n",
       "      <td>3.5</td>\n",
       "      <td>3</td>\n",
       "      <td>0.0</td>\n",
       "      <td>3.0</td>\n",
       "      <td>0</td>\n",
       "    </tr>\n",
       "    <tr>\n",
       "      <th>4</th>\n",
       "      <td>41</td>\n",
       "      <td>0</td>\n",
       "      <td>2</td>\n",
       "      <td>130</td>\n",
       "      <td>204</td>\n",
       "      <td>0</td>\n",
       "      <td>2</td>\n",
       "      <td>172</td>\n",
       "      <td>0</td>\n",
       "      <td>1.4</td>\n",
       "      <td>1</td>\n",
       "      <td>0.0</td>\n",
       "      <td>3.0</td>\n",
       "      <td>0</td>\n",
       "    </tr>\n",
       "  </tbody>\n",
       "</table>\n",
       "</div>"
      ],
      "text/plain": [
       "   age  sex  cp  trestbps  chol  fbs  restecg  thalach  exang  oldpeak  slope  \\\n",
       "0   63    1   1       145   233    1        2      150      0      2.3      3   \n",
       "1   67    1   4       160   286    0        2      108      1      1.5      2   \n",
       "2   67    1   4       120   229    0        2      129      1      2.6      2   \n",
       "3   37    1   3       130   250    0        0      187      0      3.5      3   \n",
       "4   41    0   2       130   204    0        2      172      0      1.4      1   \n",
       "\n",
       "    ca  thal  num  \n",
       "0  0.0   6.0    0  \n",
       "1  3.0   3.0    2  \n",
       "2  2.0   7.0    1  \n",
       "3  0.0   3.0    0  \n",
       "4  0.0   3.0    0  "
      ]
     },
     "execution_count": 35,
     "metadata": {},
     "output_type": "execute_result"
    }
   ],
   "source": [
    "df = X.join(Y)\n",
    "df.head()"
   ]
  },
  {
   "cell_type": "code",
   "execution_count": 36,
   "id": "48655108",
   "metadata": {},
   "outputs": [],
   "source": [
    "df_0 = df[df['num'] == 0].copy()\n",
    "df_1 = df[df['num'] == 1].copy()\n",
    "df_2 = df[df['num'] == 2].copy()\n",
    "df_3 = df[df['num'] == 3].copy()\n",
    "df_4 = df[df['num'] == 4].copy()"
   ]
  },
  {
   "cell_type": "code",
   "execution_count": 37,
   "id": "17cacdc9",
   "metadata": {},
   "outputs": [
    {
     "name": "stdout",
     "output_type": "stream",
     "text": [
      "(131, 14) (44, 14) (28, 14) (28, 14) (10, 14)\n",
      "(33, 14) (11, 14) (8, 14) (7, 14) (3, 14)\n"
     ]
    }
   ],
   "source": [
    "train_df_0, test_df_0 = train_test_split(df_0, test_size=0.2, random_state=0)\n",
    "train_df_1, test_df_1 = train_test_split(df_1, test_size=0.2, random_state=0)\n",
    "train_df_2, test_df_2 = train_test_split(df_2, test_size=0.2, random_state=0)\n",
    "train_df_3, test_df_3 = train_test_split(df_3, test_size=0.2, random_state=0)\n",
    "train_df_4, test_df_4 = train_test_split(df_4, test_size=0.2, random_state=0)\n",
    "print(train_df_0.shape, train_df_1.shape, train_df_2.shape, train_df_3.shape, train_df_4.shape)\n",
    "print(test_df_0.shape, test_df_1.shape, test_df_2.shape, test_df_3.shape, test_df_4.shape)"
   ]
  },
  {
   "cell_type": "code",
   "execution_count": 38,
   "id": "0a26dfdb",
   "metadata": {},
   "outputs": [
    {
     "name": "stdout",
     "output_type": "stream",
     "text": [
      "(241, 14) (62, 14)\n"
     ]
    }
   ],
   "source": [
    "train_df = pd.concat([train_df_0, train_df_1, train_df_2, train_df_3, train_df_4], axis=0)\n",
    "test_df = pd.concat([test_df_0, test_df_1, test_df_2, test_df_3, test_df_4], axis=0)\n",
    "print(train_df.shape, test_df.shape)"
   ]
  },
  {
   "cell_type": "code",
   "execution_count": 39,
   "id": "db1e1adf",
   "metadata": {
    "scrolled": true
   },
   "outputs": [
    {
     "name": "stdout",
     "output_type": "stream",
     "text": [
      "(62,)\n"
     ]
    }
   ],
   "source": [
    "X_train = train_df.values[:,0:12]\n",
    "Y_train = train_df.values[:,13]\n",
    "X_test = test_df.values[:,0:12]\n",
    "Y_test = test_df.values[:,13]\n",
    "print(Y_test.shape)"
   ]
  },
  {
   "cell_type": "code",
   "execution_count": 40,
   "id": "abb64b9e",
   "metadata": {},
   "outputs": [
    {
     "name": "stdout",
     "output_type": "stream",
     "text": [
      "              precision    recall  f1-score   support\n",
      "\n",
      "         0.0       0.74      0.85      0.79        33\n",
      "         1.0       0.09      0.09      0.09        11\n",
      "         2.0       0.40      0.25      0.31         8\n",
      "         3.0       0.25      0.14      0.18         7\n",
      "         4.0       0.25      0.33      0.29         3\n",
      "\n",
      "    accuracy                           0.53        62\n",
      "   macro avg       0.35      0.33      0.33        62\n",
      "weighted avg       0.50      0.53      0.51        62\n",
      "\n"
     ]
    }
   ],
   "source": [
    "sc_X = StandardScaler()\n",
    "X_train_sc = sc_X.fit_transform(X_train)\n",
    "X_test_sc = sc_X.fit_transform(X_test)\n",
    "model = SVC(C=150, kernel='rbf', gamma=0.025)\n",
    "model.fit(X_train_sc, Y_train)\n",
    "predicted = model.predict(X_test_sc)\n",
    "report = classification_report(Y_test, predicted)\n",
    "print(report)"
   ]
  },
  {
   "cell_type": "code",
   "execution_count": 41,
   "id": "5966cf71",
   "metadata": {
    "scrolled": true
   },
   "outputs": [
    {
     "name": "stdout",
     "output_type": "stream",
     "text": [
      "The penalty parameter C,  1 have the highest accuracy of  0.6129032258064516\n",
      "Classification Report: \n",
      "               precision    recall  f1-score   support\n",
      "\n",
      "         0.0       0.71      0.97      0.82        33\n",
      "         1.0       0.29      0.18      0.22        11\n",
      "         2.0       1.00      0.25      0.40         8\n",
      "         3.0       0.25      0.29      0.27         7\n",
      "         4.0       0.00      0.00      0.00         3\n",
      "\n",
      "    accuracy                           0.61        62\n",
      "   macro avg       0.45      0.34      0.34        62\n",
      "weighted avg       0.59      0.61      0.56        62\n",
      "\n"
     ]
    }
   ],
   "source": [
    "max_accuracy = 0\n",
    "highest_C = 0\n",
    "accuracy = []\n",
    "\n",
    "C_values = range(1,500)\n",
    "for C in C_values:\n",
    "    sc_X = StandardScaler()\n",
    "    X_train_sc = sc_X.fit_transform(X_train)\n",
    "    X_test_sc = sc_X.fit_transform(X_test)\n",
    "    model = SVC(C=C, kernel='rbf', gamma=0.025)\n",
    "    model.fit(X_train_sc, Y_train)\n",
    "    predicted = model.predict(X_test_sc)\n",
    "    warnings.filterwarnings('ignore')\n",
    "    report_data = classification_report(Y_test, predicted, output_dict=True)\n",
    "    data = pd.DataFrame(report_data)\n",
    "    accuracy.append(data.values[2,5])\n",
    "    if data.values[2,5] > max_accuracy:\n",
    "        report = classification_report(Y_test, predicted)\n",
    "        highest_C = C\n",
    "        max_accuracy = data.values[2,5]\n",
    "        cm = confusion_matrix(Y_test, predicted)\n",
    "        \n",
    "print(\"The penalty parameter C, \", highest_C, \"have the highest accuracy of \", max_accuracy)\n",
    "print(\"Classification Report: \\n\", report)"
   ]
  },
  {
   "cell_type": "code",
   "execution_count": 42,
   "id": "fe73c315",
   "metadata": {},
   "outputs": [
    {
     "data": {
      "image/png": "[encoded data removed]",
      "text/plain": [
       "<Figure size 800x600 with 1 Axes>"
      ]
     },
     "metadata": {},
     "output_type": "display_data"
    }
   ],
   "source": [
    "plt.figure(figsize=(8, 6))\n",
    "sns.heatmap(cm, annot=True, fmt=\"d\", cmap=\"Blues\", cbar=False, \n",
    "            xticklabels=['No HD', 'One HD', 'Two HD', 'Three HD', 'Four HD'], \n",
    "            yticklabels=['No HD', 'One HD', 'Two HD', 'Three HD', 'Four HD'])\n",
    "plt.xlabel('Predicted Label')\n",
    "plt.ylabel('True Label')\n",
    "plt.title('SVM Confusion Matrix -- C = 1')\n",
    "plt.show()"
   ]
  },
  {
   "cell_type": "code",
   "execution_count": 43,
   "id": "dd78b2f6",
   "metadata": {},
   "outputs": [
    {
     "data": {
      "text/plain": [
       "Text(0.5, 1.0, 'Heart Disease Prediction Accuracy over Penalty C')"
      ]
     },
     "execution_count": 43,
     "metadata": {},
     "output_type": "execute_result"
    },
    {
     "data": {
      "image/png": "[encoded data removed]",
      "text/plain": [
       "<Figure size 1000x700 with 1 Axes>"
      ]
     },
     "metadata": {},
     "output_type": "display_data"
    }
   ],
   "source": [
    "plt.figure(figsize=(10,7))\n",
    "plt.plot(C_values, accuracy, color='b')\n",
    "plt.grid()\n",
    "plt.xlabel('Penalty Parameter -- C')\n",
    "plt.ylabel('Accuracy')\n",
    "plt.title('Heart Disease Prediction Accuracy over Penalty C')"
   ]
  },
  {
   "cell_type": "code",
   "execution_count": null,
   "id": "25182652",
   "metadata": {},
   "outputs": [],
   "source": []
  }
 ],
 "metadata": {
  "kernelspec": {
   "display_name": "Python 3 (ipykernel)",
   "language": "python",
   "name": "python3"
  },
  "language_info": {
   "codemirror_mode": {
    "name": "ipython",
    "version": 3
   },
   "file_extension": ".py",
   "mimetype": "text/x-python",
   "name": "python",
   "nbconvert_exporter": "python",
   "pygments_lexer": "ipython3",
   "version": "3.9.18"
  }
 },
 "nbformat": 4,
 "nbformat_minor": 5
}

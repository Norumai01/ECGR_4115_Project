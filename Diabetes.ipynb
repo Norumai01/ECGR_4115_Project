{
 "cells": [
  {
   "cell_type": "code",
   "execution_count": 36,
   "id": "96fe79f2",
   "metadata": {},
   "outputs": [],
   "source": [
    "import numpy as np\n",
    "import matplotlib.pyplot as plt\n",
    "import pandas as pd\n",
    "import seaborn as sns\n",
    "from sklearn import datasets\n",
    "from sklearn import metrics\n",
    "from sklearn.model_selection import train_test_split\n",
    "from sklearn.metrics import confusion_matrix, classification_report\n",
    "from sklearn.svm import SVC\n",
    "from sklearn.preprocessing import StandardScaler\n",
    "import warnings"
   ]
  },
  {
   "cell_type": "code",
   "execution_count": 37,
   "id": "0ef2745e",
   "metadata": {
    "scrolled": true
   },
   "outputs": [
    {
     "name": "stdout",
     "output_type": "stream",
     "text": [
      "(537, 8) (231, 8) (537,) (231,)\n"
     ]
    }
   ],
   "source": [
    "diabetes = pd.DataFrame(pd.read_csv('./diabetes.csv'))\n",
    "\n",
    "X = diabetes.values[:,0:8]\n",
    "Y = diabetes.values[:,8]\n",
    "\n",
    "X_train, X_test, Y_train, Y_test = train_test_split(X, Y, test_size=0.3, random_state = 0)\n",
    "print(X_train.shape, X_test.shape, Y_train.shape, Y_test.shape)"
   ]
  },
  {
   "cell_type": "code",
   "execution_count": 38,
   "id": "7f60f438",
   "metadata": {},
   "outputs": [
    {
     "name": "stdout",
     "output_type": "stream",
     "text": [
      "              precision    recall  f1-score   support\n",
      "\n",
      "         0.0       0.80      0.86      0.83       157\n",
      "         1.0       0.65      0.54      0.59        74\n",
      "\n",
      "    accuracy                           0.76       231\n",
      "   macro avg       0.72      0.70      0.71       231\n",
      "weighted avg       0.75      0.76      0.75       231\n",
      "\n"
     ]
    }
   ],
   "source": [
    "sc_X = StandardScaler()\n",
    "X_train_sc = sc_X.fit_transform(X_train)\n",
    "X_test_sc = sc_X.fit_transform(X_test)\n",
    "model = SVC(C=1, kernel='linear')\n",
    "model.fit(X_train_sc, Y_train)\n",
    "predicted = model.predict(X_test_sc)\n",
    "report = classification_report(Y_test, predicted)\n",
    "print(report)"
   ]
  },
  {
   "cell_type": "code",
   "execution_count": 39,
   "id": "1ea8cc26",
   "metadata": {},
   "outputs": [
    {
     "name": "stdout",
     "output_type": "stream",
     "text": [
      "The kernel,  linear have the highest accuracy of  0.7082280765066763\n",
      "Classification Report: \n",
      "               precision    recall  f1-score   support\n",
      "\n",
      "         0.0       0.80      0.86      0.83       157\n",
      "         1.0       0.65      0.54      0.59        74\n",
      "\n",
      "    accuracy                           0.76       231\n",
      "   macro avg       0.72      0.70      0.71       231\n",
      "weighted avg       0.75      0.76      0.75       231\n",
      "\n"
     ]
    }
   ],
   "source": [
    "model_names = ['linear', 'rbf', 'poly']\n",
    "\n",
    "max_accuracy = 0\n",
    "highest_name = ''\n",
    "\n",
    "for name in model_names:\n",
    "    warnings.filterwarnings('ignore')\n",
    "    sc_X = StandardScaler()\n",
    "    X_train_sc = sc_X.fit_transform(X_train)\n",
    "    X_test_sc = sc_X.fit_transform(X_test)\n",
    "    model = SVC(C=1, kernel=name)\n",
    "    model.fit(X_train_sc, Y_train)\n",
    "    predicted = model.predict(X_test_sc)\n",
    "    report_data = classification_report(Y_test, predicted, output_dict=True)\n",
    "    data = pd.DataFrame(report_data)\n",
    "    if data.values[2,3] > max_accuracy:\n",
    "        report = classification_report(Y_test, predicted)\n",
    "        cm = confusion_matrix(Y_test, predicted)\n",
    "        max_accuracy = data.values[2,3]\n",
    "        highest_name = name\n",
    "        \n",
    "print(\"The kernel, \", highest_name, \"have the highest accuracy of \", max_accuracy)\n",
    "print(\"Classification Report: \\n\", report)"
   ]
  },
  {
   "cell_type": "code",
   "execution_count": 40,
   "id": "a4e3f5a4",
   "metadata": {},
   "outputs": [
    {
     "data": {
      "image/png": "[encoded data removed]",
      "text/plain": [
       "<Figure size 800x600 with 1 Axes>"
      ]
     },
     "metadata": {},
     "output_type": "display_data"
    }
   ],
   "source": [
    "plt.figure(figsize=(8, 6))\n",
    "sns.heatmap(cm, annot=True, fmt=\"d\", cmap=\"Blues\", cbar=False, \n",
    "            xticklabels=['No Diabetes', 'Diabetes'], yticklabels=['No Diabetes', 'Diabetes'])\n",
    "plt.xlabel('Predicted Label')\n",
    "plt.ylabel('True Label')\n",
    "plt.show()"
   ]
  },
  {
   "cell_type": "code",
   "execution_count": null,
   "id": "44c9ca74",
   "metadata": {},
   "outputs": [],
   "source": []
  }
 ],
 "metadata": {
  "kernelspec": {
   "display_name": "Python 3 (ipykernel)",
   "language": "python",
   "name": "python3"
  },
  "language_info": {
   "codemirror_mode": {
    "name": "ipython",
    "version": 3
   },
   "file_extension": ".py",
   "mimetype": "text/x-python",
   "name": "python",
   "nbconvert_exporter": "python",
   "pygments_lexer": "ipython3",
   "version": "3.9.18"
  }
 },
 "nbformat": 4,
 "nbformat_minor": 5
}
